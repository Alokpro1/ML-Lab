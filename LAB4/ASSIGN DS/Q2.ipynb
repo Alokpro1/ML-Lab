{
 "metadata": {
  "language_info": {
   "codemirror_mode": {
    "name": "ipython",
    "version": 3
   },
   "file_extension": ".py",
   "mimetype": "text/x-python",
   "name": "python",
   "nbconvert_exporter": "python",
   "pygments_lexer": "ipython3",
   "version": "3.7.7-final"
  },
  "orig_nbformat": 2,
  "kernelspec": {
   "name": "python37764bittensor2conda1a820e6288224e51ab4562b2a300d300",
   "display_name": "Python 3.7.7 64-bit ('Tensor2': conda)"
  }
 },
 "nbformat": 4,
 "nbformat_minor": 2,
 "cells": [
  {
   "cell_type": "code",
   "execution_count": 1,
   "metadata": {},
   "outputs": [],
   "source": [
    "import math\n",
    "import numpy as np\n",
    "import pandas as pd\n",
    "from sklearn.model_selection import train_test_split"
   ]
  },
  {
   "cell_type": "code",
   "execution_count": 68,
   "metadata": {},
   "outputs": [],
   "source": [
    "df=pd.read_csv('weather.csv')\n",
    "r,_=df.shape\n",
    "df[\"B0\"]=np.ones([r,1])"
   ]
  },
  {
   "cell_type": "code",
   "execution_count": 69,
   "metadata": {},
   "outputs": [
    {
     "output_type": "execute_result",
     "data": {
      "text/plain": "Index(['Date', 'TempHighF', 'TempAvgF', 'TempLowF', 'DewPointHighF',\n       'DewPointAvgF', 'DewPointLowF', 'HumidityHighPercent',\n       'HumidityAvgPercent', 'HumidityLowPercent',\n       'SeaLevelPressureHighInches', 'SeaLevelPressureAvgInches',\n       'SeaLevelPressureLowInches', 'VisibilityHighMiles',\n       'VisibilityAvgMiles', 'VisibilityLowMiles', 'WindHighMPH', 'WindAvgMPH',\n       'WindGustMPH', 'PrecipitationSumInches', 'Events', 'B0'],\n      dtype='object')"
     },
     "metadata": {},
     "execution_count": 69
    }
   ],
   "source": [
    "df.columns"
   ]
  },
  {
   "cell_type": "code",
   "execution_count": 115,
   "metadata": {},
   "outputs": [],
   "source": [
    "X_temp=np.array(df[['TempHighF','TempAvgF','TempLowF']])\n",
    "Yv=np.array(df['PrecipitationSumInches'])"
   ]
  },
  {
   "cell_type": "code",
   "execution_count": 117,
   "metadata": {},
   "outputs": [],
   "source": [
    "def preprocess_data(X, y):\n",
    "    n_samples, n_features = X.shape\n",
    "\n",
    "    X_cleaned, y_cleaned = [], []\n",
    "\n",
    "    for ii in range(_n_samples):\n",
    "        dirty_flag = False\n",
    "        for jj in range(_n_features):\n",
    "            if X[ii][jj] == '-':\n",
    "                dirty_flag = True\n",
    "        if y[ii] == 'T':\n",
    "            dirty_flag = True\n",
    "\n",
    "        if not dirty_flag:\n",
    "            _X_cleaned.append(X[ii])\n",
    "            _y_cleaned.append(y[ii])\n",
    "\n",
    "    return np.array(_X_cleaned).astype('float64'), np.array(_y_cleaned).astype('float64')\n"
   ]
  },
  {
   "cell_type": "code",
   "execution_count": 118,
   "metadata": {},
   "outputs": [],
   "source": [
    "X_temp,Yv=preprocess_data(X_test,Yv)\n",
    "X_train, X_test, y_train, y_test = train_test_split(X_temp, Yv, test_size=0.33, random_state=42)"
   ]
  },
  {
   "cell_type": "code",
   "execution_count": 120,
   "metadata": {},
   "outputs": [],
   "source": [
    "from sklearn.metrics import r2_score"
   ]
  },
  {
   "cell_type": "code",
   "execution_count": 121,
   "metadata": {},
   "outputs": [],
   "source": [
    "B=np.linalg.inv(X_train.T@X_train)\n",
    "beta=B@X_train.T@y_train\n",
    "Y_r=X_test@beta"
   ]
  },
  {
   "cell_type": "code",
   "execution_count": 122,
   "metadata": {},
   "outputs": [],
   "source": [
    "def errors():\n",
    "    SSE=np.sum(np.square(Y_r-y_test))\n",
    "    SSTO=np.sum(np.square(y_test-np.mean(y_test)))\n",
    "    SSR=np.sum(np.square(Y_r-np.mean(y_test)))\n",
    "    CR=r2_score(y_test,Y_r)\n",
    "    print(\"ERROR---> SSE:\",SSE,\" SSR:\",SSR,\" SSTO:\",SSTO,\" Coefficent of Determination:\",CR)"
   ]
  },
  {
   "cell_type": "code",
   "execution_count": 123,
   "metadata": {
    "tags": []
   },
   "outputs": [
    {
     "output_type": "stream",
     "name": "stdout",
     "text": "ERROR---> SSE: 27.61424910698376  SSR: 0.04407382129913962  SSTO: 27.85103816793894  Coefficent of Determination: 0.008501983284334491\n"
    }
   ],
   "source": [
    "errors()"
   ]
  },
  {
   "cell_type": "code",
   "execution_count": null,
   "metadata": {},
   "outputs": [],
   "source": []
  }
 ]
}