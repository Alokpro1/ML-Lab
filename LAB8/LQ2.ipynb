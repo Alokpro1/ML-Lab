{
 "cells": [
  {
   "cell_type": "code",
   "execution_count": 1,
   "metadata": {},
   "outputs": [
    {
     "name": "stderr",
     "output_type": "stream",
     "text": [
      "Using TensorFlow backend.\n"
     ]
    }
   ],
   "source": [
    "import keras\n",
    "from keras.models import Sequential\n",
    "from keras.layers import Dense"
   ]
  },
  {
   "cell_type": "code",
   "execution_count": 2,
   "metadata": {},
   "outputs": [],
   "source": [
    "import warnings\n",
    "warnings.filterwarnings(\"ignore\")\n",
    "\n",
    "\n",
    "import pandas as pd\n",
    "import numpy as np\n",
    "\n",
    "from random import seed,sample,randrange\n",
    "from sklearn.model_selection import train_test_split\n",
    "from sklearn.preprocessing import LabelBinarizer\n",
    "from sklearn.preprocessing import StandardScaler"
   ]
  },
  {
   "cell_type": "code",
   "execution_count": 3,
   "metadata": {},
   "outputs": [],
   "source": [
    "X1 = pd.DataFrame([[-1,-1,-1],\n",
    "     [-1,-1,1],\n",
    "     [-1,1,-1],\n",
    "     [-1,1,1],\n",
    "     [1,-1,-1],\n",
    "     [1,-1,1],\n",
    "     [1,1,-1],\n",
    "     [1,1,1]])\n",
    "y = pd.DataFrame([1,-1,1,-1,1,-1,1,-1])\n",
    "X=pd.DataFrame({\"c1\":X1[0],\"c2\":X1[1],\"c3\":X1[2]})"
   ]
  },
  {
   "cell_type": "code",
   "execution_count": 4,
   "metadata": {},
   "outputs": [],
   "source": [
    "from keras.utils import to_categorical\n",
    "y = to_categorical(y)"
   ]
  },
  {
   "cell_type": "code",
   "execution_count": 5,
   "metadata": {},
   "outputs": [],
   "source": [
    "RandomState = 42\n",
    "seed(21)"
   ]
  },
  {
   "cell_type": "code",
   "execution_count": 7,
   "metadata": {},
   "outputs": [],
   "source": [
    "X_train, X_test, y_train, y_test = train_test_split(X, y)\n"
   ]
  },
  {
   "cell_type": "code",
   "execution_count": 8,
   "metadata": {},
   "outputs": [],
   "source": [
    "model = Sequential()\n",
    "model.add(Dense(3, input_dim=3, activation=\"relu\"))\n",
    "model.add(Dense(2, activation=\"relu\"))\n",
    "model.add(Dense(1, activation=\"relu\"))\n",
    "model.add(Dense(2, activation='softmax'))"
   ]
  },
  {
   "cell_type": "code",
   "execution_count": 9,
   "metadata": {},
   "outputs": [],
   "source": [
    "\n",
    "model.compile(loss='categorical_crossentropy', optimizer='adam', metrics=['accuracy'])\n"
   ]
  },
  {
   "cell_type": "code",
   "execution_count": 12,
   "metadata": {},
   "outputs": [
    {
     "name": "stdout",
     "output_type": "stream",
     "text": [
      "[INFO] training model...\n",
      "Epoch 1/5\n",
      "8/8 [==============================] - 1s 91ms/step - loss: 0.6891 - accuracy: 0.3750\n",
      "Epoch 2/5\n",
      "8/8 [==============================] - 0s 1ms/step - loss: 0.6879 - accuracy: 1.0000\n",
      "Epoch 3/5\n",
      "8/8 [==============================] - 0s 602us/step - loss: 0.6868 - accuracy: 1.0000\n",
      "Epoch 4/5\n",
      "8/8 [==============================] - 0s 647us/step - loss: 0.6856 - accuracy: 1.0000\n",
      "Epoch 5/5\n",
      "8/8 [==============================] - 0s 486us/step - loss: 0.6844 - accuracy: 1.0000\n"
     ]
    },
    {
     "data": {
      "text/plain": [
       "<keras.callbacks.callbacks.History at 0x7f3fac06be90>"
      ]
     },
     "execution_count": 12,
     "metadata": {},
     "output_type": "execute_result"
    }
   ],
   "source": [
    "print(\"[INFO] training model...\")\n",
    "model.fit(X, y, epochs=5)"
   ]
  },
  {
   "cell_type": "code",
   "execution_count": 13,
   "metadata": {},
   "outputs": [
    {
     "name": "stdout",
     "output_type": "stream",
     "text": [
      "2/2 [==============================] - 0s 68ms/step\n"
     ]
    }
   ],
   "source": [
    "scores = model.evaluate(X_test, y_test)"
   ]
  },
  {
   "cell_type": "code",
   "execution_count": 14,
   "metadata": {},
   "outputs": [
    {
     "data": {
      "text/plain": [
       "[0.6846103072166443, 1.0]"
      ]
     },
     "execution_count": 14,
     "metadata": {},
     "output_type": "execute_result"
    }
   ],
   "source": [
    "scores"
   ]
  },
  {
   "cell_type": "code",
   "execution_count": 27,
   "metadata": {},
   "outputs": [
    {
     "name": "stdout",
     "output_type": "stream",
     "text": [
      "Weights layer: 0  => <tf.Variable 'dense_1/kernel:0' shape=(3, 3) dtype=float32, numpy=\n",
      "array([[ 0.96052873,  0.09241586,  0.5889882 ],\n",
      "       [ 0.7425442 , -0.6499851 ,  0.6049291 ],\n",
      "       [ 0.63735414,  0.13175945,  0.88118213]], dtype=float32)>\n",
      "Weights layer: 1  => <tf.Variable 'dense_1/bias:0' shape=(3,) dtype=float32, numpy=array([ 0.00500467, -0.00499768,  0.00499916], dtype=float32)>\n",
      "Weights layer: 2  => <tf.Variable 'dense_2/kernel:0' shape=(3, 2) dtype=float32, numpy=\n",
      "array([[ 0.6717951 ,  0.7512468 ],\n",
      "       [-1.0462297 , -0.7703324 ],\n",
      "       [-0.94574285,  0.25759405]], dtype=float32)>\n"
     ]
    }
   ],
   "source": [
    "for i in range(0,3):\n",
    "    print(\"Weights layer:\",i,\" =>\",model.weights[i])"
   ]
  }
 ],
 "metadata": {
  "environment": {
   "name": "tf2-gpu.2-1.m55",
   "type": "gcloud",
   "uri": "gcr.io/deeplearning-platform-release/tf2-gpu.2-1:m55"
  },
  "kernelspec": {
   "display_name": "Python 3",
   "language": "python",
   "name": "python3"
  },
  "language_info": {
   "codemirror_mode": {
    "name": "ipython",
    "version": 3
   },
   "file_extension": ".py",
   "mimetype": "text/x-python",
   "name": "python",
   "nbconvert_exporter": "python",
   "pygments_lexer": "ipython3",
   "version": "3.7.8"
  }
 },
 "nbformat": 4,
 "nbformat_minor": 4
}
