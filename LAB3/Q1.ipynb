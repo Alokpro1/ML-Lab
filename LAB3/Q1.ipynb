{
 "metadata": {
  "language_info": {
   "codemirror_mode": {
    "name": "ipython",
    "version": 3
   },
   "file_extension": ".py",
   "mimetype": "text/x-python",
   "name": "python",
   "nbconvert_exporter": "python",
   "pygments_lexer": "ipython3",
   "version": "3.7.7-final"
  },
  "orig_nbformat": 2,
  "kernelspec": {
   "name": "python37764bittensor2conda1a820e6288224e51ab4562b2a300d300",
   "display_name": "Python 3.7.7 64-bit ('Tensor2': conda)"
  }
 },
 "nbformat": 4,
 "nbformat_minor": 2,
 "cells": [
  {
   "cell_type": "code",
   "execution_count": 91,
   "metadata": {},
   "outputs": [],
   "source": [
    "import math\n",
    "import numpy as np\n",
    "import pandas as pd\n",
    "from numpy.random import seed\n",
    "from numpy.random import rand"
   ]
  },
  {
   "cell_type": "code",
   "execution_count": 19,
   "metadata": {},
   "outputs": [],
   "source": [
    "seed(1)\n",
    "X1=rand(1000,3)*10-5\n",
    "s1=[[0.8,0.2,0.1],[0.2,0.8,0.2],[0.1,0.2,0.8]]\n",
    "s2=[[0.6,0.01,0.01],[0.01,0.8,0.01],[0.01,0.01,0.6]]\n",
    "s3=[[0.6,0.1,0.1],[0.1,0.6,0.1],[0.1,0.1,0.6]]\n",
    "m1=[0,0,0]\n",
    "m2=[1,2,2]\n",
    "m3=[3,3,4]\n",
    "P1=P2=P3=1/3"
   ]
  },
  {
   "cell_type": "code",
   "execution_count": 56,
   "metadata": {},
   "outputs": [],
   "source": [
    "def gpdf(m,S,X):\n",
    "    r=np.exp(-((X-m).T@np.linalg.inv(S)@(X-m))/2)\n",
    "    return r/((np.sqrt(2*3.14)**3)*np.sqrt(np.linalg.det(S)))"
   ]
  },
  {
   "cell_type": "code",
   "execution_count": 75,
   "metadata": {
    "tags": []
   },
   "outputs": [
    {
     "output_type": "execute_result",
     "data": {
      "text/plain": "2.790009359050066e-12"
     },
     "metadata": {},
     "execution_count": 75
    }
   ],
   "source": [
    "y1=[gpdf(m1,s1,X1[x]) for x in range(0,1000)]\n",
    "y2=[gpdf(m2,s2,X1[x]) for x in range(0,1000)]\n",
    "y3=[gpdf(m3,s3,X1[x]) for x in range(0,1000)]"
   ]
  },
  {
   "cell_type": "code",
   "execution_count": 84,
   "metadata": {},
   "outputs": [],
   "source": [
    "def find(x):\n",
    "    if (y1[x]>= y2[x] and y1[x]>=y3[x]):\n",
    "        return 1\n",
    "    elif (y2[x]>= y1[x] and y2[x]>=y3[x]):\n",
    "        return 2\n",
    "    else:\n",
    "        return 3"
   ]
  },
  {
   "cell_type": "code",
   "execution_count": 204,
   "metadata": {},
   "outputs": [],
   "source": [
    "y=[find(x) for x in range(0,1000)]\n",
    "df=pd.DataFrame(X1)\n",
    "df[3]=y\n",
    "d1=df[df[3]==1].drop(columns=3)\n",
    "d2=df[df[3]==2].drop(columns=3)\n",
    "d3=df[df[3]==3].drop(columns=3)\n",
    "y1=df[df[3]==1]\n",
    "y2=df[df[3]==2]\n",
    "y3=df[df[3]==3]"
   ]
  },
  {
   "cell_type": "code",
   "execution_count": 209,
   "metadata": {},
   "outputs": [],
   "source": [
    "ml_mean=[d1.mean(),d2.mean(),d3.mean()]\n",
    "ml_var=(d1.var()+d2.var()+d3.var())/3\n",
    "\n"
   ]
  },
  {
   "cell_type": "code",
   "execution_count": 210,
   "metadata": {},
   "outputs": [
    {
     "output_type": "execute_result",
     "data": {
      "text/plain": "(1356, 1356)"
     },
     "metadata": {},
     "execution_count": 210
    }
   ],
   "source": [
    "ml_cov1.shape"
   ]
  },
  {
   "cell_type": "code",
   "execution_count": 223,
   "metadata": {},
   "outputs": [],
   "source": [
    "def eucl(X,m):\n",
    "    return np.sqrt((X-m).T@(X-m))"
   ]
  },
  {
   "cell_type": "code",
   "execution_count": 224,
   "metadata": {},
   "outputs": [],
   "source": [
    "X2=rand(1000,3)*10-7\n"
   ]
  },
  {
   "cell_type": "code",
   "execution_count": 227,
   "metadata": {},
   "outputs": [],
   "source": [
    "dist1=[eucl(X2[x],d1.mean()) for x in range(0,1000)]\n",
    "dist2=[eucl(X2[x],d2.mean()) for x in range(0,1000)]\n",
    "dist3=[eucl(X2[x],d3.mean()) for x in range(0,1000)]\n",
    "ecd=pd.DataFrame(X2)"
   ]
  },
  {
   "cell_type": "code",
   "execution_count": 229,
   "metadata": {},
   "outputs": [],
   "source": [
    "def classify(x):\n",
    "    if (dist1[x]<= dist2[x] and dist1[x]<=dist3[x]):\n",
    "        return 1\n",
    "    elif (dist2[x]<= dist1[x] and dist2[x]<=dist3[x]):\n",
    "        return 2\n",
    "    else:\n",
    "        return 3"
   ]
  },
  {
   "cell_type": "code",
   "execution_count": 230,
   "metadata": {},
   "outputs": [],
   "source": [
    "ecd[3]=[classify(x) for x in range(0,1000)]"
   ]
  },
  {
   "cell_type": "code",
   "execution_count": null,
   "metadata": {},
   "outputs": [],
   "source": []
  }
 ]
}