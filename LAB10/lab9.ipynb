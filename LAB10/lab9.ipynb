{
 "cells": [
  {
   "cell_type": "code",
   "execution_count": 1,
   "metadata": {},
   "outputs": [
    {
     "name": "stderr",
     "output_type": "stream",
     "text": [
      "Using TensorFlow backend.\n"
     ]
    }
   ],
   "source": [
    "import keras\n",
    "from keras.models import Sequential\n",
    "from keras.layers import Dense\n",
    "from keras.optimizers import Adam\n",
    "from keras.callbacks import EarlyStopping"
   ]
  },
  {
   "cell_type": "code",
   "execution_count": 2,
   "metadata": {},
   "outputs": [],
   "source": [
    "import warnings\n",
    "warnings.filterwarnings(\"ignore\")\n",
    "\n",
    "\n",
    "import pandas as pd\n",
    "import numpy as np\n",
    "\n",
    "from random import seed,sample,randrange\n",
    "from sklearn.model_selection import train_test_split\n",
    "from sklearn.preprocessing import LabelBinarizer\n",
    "from sklearn.preprocessing import StandardScaler\n",
    "from tqdm import tqdm"
   ]
  },
  {
   "cell_type": "code",
   "execution_count": 3,
   "metadata": {},
   "outputs": [],
   "source": [
    "m1 = [0, 0, 0]\n",
    "m2 = [0, 1, 0]\n",
    "m3 = [-1, 0, 1]\n",
    "m4 = [0, 0.5, 1]\n",
    "cov1 = [[1, 0, 0],[0, 1, 0],[0, 0, 1]]\n",
    "cov2 = [[1, 0, 1],[0, 2, 2],[1, 2, 5]]\n",
    "cov3 = [[2, 0, 0],[0, 6, 0],[0, 0, 1]]\n",
    "cov4 = [[2, 0, 0],[0, 1, 0],[0, 0, 3]]"
   ]
  },
  {
   "cell_type": "code",
   "execution_count": 4,
   "metadata": {},
   "outputs": [],
   "source": [
    "x1=pd.DataFrame(np.random.multivariate_normal(m1, cov1, 1000),columns=list('ABC'))\n",
    "x1['y']=1\n",
    "x2=pd.DataFrame(np.random.multivariate_normal(m2, cov2, 1000),columns=list('ABC'))\n",
    "x2['y']=2\n",
    "x3=pd.DataFrame(np.random.multivariate_normal(m3, cov3, 1000),columns=list('ABC'))\n",
    "x3['y']=3\n",
    "x4=pd.DataFrame(np.random.multivariate_normal(m4, cov4, 1000),columns=list('ABC'))\n",
    "x4['y']=4\n",
    "\n"
   ]
  },
  {
   "cell_type": "code",
   "execution_count": 5,
   "metadata": {},
   "outputs": [],
   "source": [
    "data=x1\n",
    "data=data.append(x2,ignore_index=True)\n",
    "data=data.append(x3,ignore_index=True)\n",
    "data=data.append(x4,ignore_index=True)"
   ]
  },
  {
   "cell_type": "code",
   "execution_count": 6,
   "metadata": {},
   "outputs": [],
   "source": [
    "X=data.drop('y',axis=1)\n",
    "y=data['y']"
   ]
  },
  {
   "cell_type": "code",
   "execution_count": 7,
   "metadata": {},
   "outputs": [],
   "source": [
    "from keras.utils import to_categorical\n",
    "y = to_categorical(y)"
   ]
  },
  {
   "cell_type": "code",
   "execution_count": 8,
   "metadata": {},
   "outputs": [],
   "source": [
    "X_train, X_val, y_train, y_val = train_test_split(X, y, test_size=0.33, random_state=42)"
   ]
  },
  {
   "cell_type": "code",
   "execution_count": 9,
   "metadata": {},
   "outputs": [],
   "source": [
    "model = Sequential()\n",
    "model.add(Dense(3, input_dim=3, activation=\"relu\"))\n",
    "model.add(Dense(3, activation=\"relu\"))\n",
    "model.add(Dense(4, activation=\"relu\"))\n",
    "model.add(Dense(5, activation='softmax'))"
   ]
  },
  {
   "cell_type": "code",
   "execution_count": 10,
   "metadata": {},
   "outputs": [],
   "source": [
    "model.compile(loss='categorical_crossentropy',optimizer=Adam(lr=0.01),metrics=['accuracy'])"
   ]
  },
  {
   "cell_type": "code",
   "execution_count": 11,
   "metadata": {},
   "outputs": [
    {
     "name": "stdout",
     "output_type": "stream",
     "text": [
      "Model: \"sequential_1\"\n",
      "_________________________________________________________________\n",
      "Layer (type)                 Output Shape              Param #   \n",
      "=================================================================\n",
      "dense_1 (Dense)              (None, 3)                 12        \n",
      "_________________________________________________________________\n",
      "dense_2 (Dense)              (None, 3)                 12        \n",
      "_________________________________________________________________\n",
      "dense_3 (Dense)              (None, 4)                 16        \n",
      "_________________________________________________________________\n",
      "dense_4 (Dense)              (None, 5)                 25        \n",
      "=================================================================\n",
      "Total params: 65\n",
      "Trainable params: 65\n",
      "Non-trainable params: 0\n",
      "_________________________________________________________________\n",
      "None\n"
     ]
    }
   ],
   "source": [
    "print(model.summary())"
   ]
  },
  {
   "cell_type": "code",
   "execution_count": null,
   "metadata": {},
   "outputs": [
    {
     "name": "stdout",
     "output_type": "stream",
     "text": [
      "Train on 2680 samples, validate on 1320 samples\n",
      "Epoch 1/150\n",
      "2680/2680 [==============================] - 1s 380us/step - loss: 1.6181 - accuracy: 0.2463 - val_loss: 1.5221 - val_accuracy: 0.2568\n",
      "Epoch 2/150\n",
      "2680/2680 [==============================] - 0s 41us/step - loss: 1.4875 - accuracy: 0.3022 - val_loss: 1.4605 - val_accuracy: 0.2856\n",
      "Epoch 3/150\n",
      "2680/2680 [==============================] - 0s 30us/step - loss: 1.4394 - accuracy: 0.3101 - val_loss: 1.4230 - val_accuracy: 0.2932\n",
      "Epoch 4/150\n",
      "2680/2680 [==============================] - 0s 40us/step - loss: 1.4128 - accuracy: 0.3149 - val_loss: 1.3999 - val_accuracy: 0.2985\n",
      "Epoch 5/150\n",
      "2680/2680 [==============================] - 0s 40us/step - loss: 1.3940 - accuracy: 0.3194 - val_loss: 1.3869 - val_accuracy: 0.2947\n",
      "Epoch 6/150\n",
      "2680/2680 [==============================] - 0s 34us/step - loss: 1.3807 - accuracy: 0.3265 - val_loss: 1.3750 - val_accuracy: 0.2985\n",
      "Epoch 7/150\n",
      "2680/2680 [==============================] - 0s 33us/step - loss: 1.3657 - accuracy: 0.3149 - val_loss: 1.3584 - val_accuracy: 0.2955\n",
      "Epoch 8/150\n",
      "2680/2680 [==============================] - 0s 30us/step - loss: 1.3528 - accuracy: 0.3306 - val_loss: 1.3505 - val_accuracy: 0.2848\n",
      "Epoch 9/150\n",
      "2680/2680 [==============================] - 0s 30us/step - loss: 1.3440 - accuracy: 0.3138 - val_loss: 1.3394 - val_accuracy: 0.2886\n",
      "Epoch 10/150\n",
      "2680/2680 [==============================] - 0s 30us/step - loss: 1.3355 - accuracy: 0.3205 - val_loss: 1.3307 - val_accuracy: 0.2886\n",
      "Epoch 11/150\n",
      "2680/2680 [==============================] - 0s 33us/step - loss: 1.3271 - accuracy: 0.3332 - val_loss: 1.3214 - val_accuracy: 0.2833\n",
      "Epoch 12/150\n",
      "2680/2680 [==============================] - 0s 30us/step - loss: 1.3221 - accuracy: 0.3172 - val_loss: 1.3180 - val_accuracy: 0.3295\n",
      "Epoch 13/150\n",
      "2680/2680 [==============================] - 0s 30us/step - loss: 1.3138 - accuracy: 0.3116 - val_loss: 1.3052 - val_accuracy: 0.3394\n",
      "Epoch 14/150\n",
      "2680/2680 [==============================] - 0s 30us/step - loss: 1.3092 - accuracy: 0.3287 - val_loss: 1.3103 - val_accuracy: 0.3174\n",
      "Epoch 15/150\n",
      "2680/2680 [==============================] - 0s 38us/step - loss: 1.3064 - accuracy: 0.3007 - val_loss: 1.2985 - val_accuracy: 0.3008\n",
      "Epoch 16/150\n",
      "2680/2680 [==============================] - 0s 31us/step - loss: 1.2983 - accuracy: 0.3056 - val_loss: 1.2909 - val_accuracy: 0.3508\n",
      "Epoch 17/150\n",
      "2680/2680 [==============================] - 0s 32us/step - loss: 1.2947 - accuracy: 0.3549 - val_loss: 1.2885 - val_accuracy: 0.3439\n",
      "Epoch 18/150\n",
      "2680/2680 [==============================] - 0s 31us/step - loss: 1.2907 - accuracy: 0.3325 - val_loss: 1.2809 - val_accuracy: 0.3576\n",
      "Epoch 19/150\n",
      "2680/2680 [==============================] - 0s 33us/step - loss: 1.2876 - accuracy: 0.3291 - val_loss: 1.2844 - val_accuracy: 0.3750\n",
      "Epoch 20/150\n",
      "2680/2680 [==============================] - 0s 30us/step - loss: 1.2888 - accuracy: 0.3422 - val_loss: 1.2794 - val_accuracy: 0.3598\n",
      "Epoch 21/150\n",
      "2680/2680 [==============================] - 0s 30us/step - loss: 1.2832 - accuracy: 0.3530 - val_loss: 1.2703 - val_accuracy: 0.3614\n",
      "Epoch 22/150\n",
      "2680/2680 [==============================] - 0s 30us/step - loss: 1.2801 - accuracy: 0.3239 - val_loss: 1.2694 - val_accuracy: 0.3523\n",
      "Epoch 23/150\n",
      "2680/2680 [==============================] - 0s 31us/step - loss: 1.2772 - accuracy: 0.3429 - val_loss: 1.2624 - val_accuracy: 0.3917\n",
      "Epoch 24/150\n",
      "2680/2680 [==============================] - 0s 31us/step - loss: 1.2736 - accuracy: 0.3966 - val_loss: 1.2633 - val_accuracy: 0.4129\n",
      "Epoch 25/150\n",
      "2680/2680 [==============================] - 0s 29us/step - loss: 1.2695 - accuracy: 0.3963 - val_loss: 1.2585 - val_accuracy: 0.4182\n",
      "Epoch 26/150\n",
      "2680/2680 [==============================] - 0s 30us/step - loss: 1.2662 - accuracy: 0.4004 - val_loss: 1.2562 - val_accuracy: 0.4159\n",
      "Epoch 27/150\n",
      "2680/2680 [==============================] - 0s 30us/step - loss: 1.2616 - accuracy: 0.4093 - val_loss: 1.2591 - val_accuracy: 0.4076\n",
      "Epoch 28/150\n",
      "2680/2680 [==============================] - 0s 54us/step - loss: 1.2651 - accuracy: 0.4149 - val_loss: 1.2539 - val_accuracy: 0.4182\n",
      "Epoch 29/150\n",
      "2680/2680 [==============================] - 0s 46us/step - loss: 1.2549 - accuracy: 0.4198 - val_loss: 1.2499 - val_accuracy: 0.4220\n",
      "Epoch 30/150\n",
      "2680/2680 [==============================] - 0s 32us/step - loss: 1.2514 - accuracy: 0.4160 - val_loss: 1.2493 - val_accuracy: 0.4212\n",
      "Epoch 31/150\n",
      "2680/2680 [==============================] - 0s 27us/step - loss: 1.2485 - accuracy: 0.4149 - val_loss: 1.2443 - val_accuracy: 0.4227\n",
      "Epoch 32/150\n",
      "2680/2680 [==============================] - 0s 53us/step - loss: 1.2439 - accuracy: 0.4295 - val_loss: 1.2441 - val_accuracy: 0.4311\n",
      "Epoch 33/150\n",
      "2680/2680 [==============================] - 0s 40us/step - loss: 1.2406 - accuracy: 0.4313 - val_loss: 1.2613 - val_accuracy: 0.4083\n",
      "Epoch 34/150\n",
      "2680/2680 [==============================] - 0s 40us/step - loss: 1.2434 - accuracy: 0.4216 - val_loss: 1.2453 - val_accuracy: 0.4076\n",
      "Epoch 35/150\n",
      "1920/2680 [====================>.........] - ETA: 0s - loss: 1.2396 - accuracy: 0.4255"
     ]
    }
   ],
   "source": [
    "history=model.fit(X_train, y_train, validation_data=(X_val, y_val),epochs=150, batch_size=128)"
   ]
  },
  {
   "cell_type": "code",
   "execution_count": null,
   "metadata": {},
   "outputs": [],
   "source": [
    "import matplotlib.pyplot as plt\n",
    "\n",
    "\n",
    "epoch_count = range(1, len(history.history['loss']) + 1)\n",
    "\n",
    "\n",
    "plt.plot(epoch_count, history.history['loss'], 'r--')\n",
    "plt.plot(epoch_count, history.history['val_loss'], 'b-')\n",
    "plt.legend(['Training Loss', 'Validation Loss'])\n",
    "plt.xlabel('Epoch')\n",
    "plt.ylabel('Loss')\n",
    "plt.show()"
   ]
  },
  {
   "cell_type": "code",
   "execution_count": null,
   "metadata": {},
   "outputs": [],
   "source": []
  }
 ],
 "metadata": {
  "environment": {
   "name": "tf2-gpu.2-1.m55",
   "type": "gcloud",
   "uri": "gcr.io/deeplearning-platform-release/tf2-gpu.2-1:m55"
  },
  "kernelspec": {
   "display_name": "Python 3",
   "language": "python",
   "name": "python3"
  },
  "language_info": {
   "codemirror_mode": {
    "name": "ipython",
    "version": 3
   },
   "file_extension": ".py",
   "mimetype": "text/x-python",
   "name": "python",
   "nbconvert_exporter": "python",
   "pygments_lexer": "ipython3",
   "version": "3.7.8"
  }
 },
 "nbformat": 4,
 "nbformat_minor": 4
}
